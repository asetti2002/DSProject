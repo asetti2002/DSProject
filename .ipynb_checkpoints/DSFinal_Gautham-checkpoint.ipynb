{
 "cells": [
  {
   "cell_type": "code",
   "execution_count": 83,
   "id": "e21b9991",
   "metadata": {},
   "outputs": [],
   "source": [
    "import numpy as np\n",
    "import pandas as pd\n",
    "import matplotlib.pyplot as plt\n",
    "import seaborn as sns\n",
    "from sklearn.metrics import confusion_matrix\n",
    "from sklearn.model_selection import train_test_split\n",
    "import sklearn.metrics as metrics\n",
    "from sklearn.preprocessing import LabelEncoder\n",
    "from sklearn.preprocessing import OneHotEncoder \n",
    "import statsmodels.api as sm\n",
    "from sklearn.linear_model import LogisticRegression\n",
    "from sklearn.tree import DecisionTreeClassifier\n",
    "from sklearn.ensemble import RandomForestClassifier\n",
    "from sklearn.metrics import r2_score"
   ]
  },
  {
   "cell_type": "code",
   "execution_count": 108,
   "id": "2c30ec4b",
   "metadata": {},
   "outputs": [],
   "source": [
    "# Classification Packages\n",
    "from sklearn.linear_model import LogisticRegression\n",
    "from sklearn.tree import DecisionTreeClassifier\n",
    "from sklearn.ensemble import RandomForestClassifier"
   ]
  },
  {
   "cell_type": "code",
   "execution_count": 84,
   "id": "ad69fb17",
   "metadata": {},
   "outputs": [],
   "source": [
    "ff = pd.read_csv('FantasyPros_Fantasy_Football_Advanced_Stats_Report_WR.csv')"
   ]
  },
  {
   "cell_type": "code",
   "execution_count": 85,
   "id": "130f1a0a",
   "metadata": {},
   "outputs": [
    {
     "data": {
      "text/html": [
       "<div>\n",
       "<style scoped>\n",
       "    .dataframe tbody tr th:only-of-type {\n",
       "        vertical-align: middle;\n",
       "    }\n",
       "\n",
       "    .dataframe tbody tr th {\n",
       "        vertical-align: top;\n",
       "    }\n",
       "\n",
       "    .dataframe thead th {\n",
       "        text-align: right;\n",
       "    }\n",
       "</style>\n",
       "<table border=\"1\" class=\"dataframe\">\n",
       "  <thead>\n",
       "    <tr style=\"text-align: right;\">\n",
       "      <th></th>\n",
       "      <th>Rank</th>\n",
       "      <th>Player</th>\n",
       "      <th>G</th>\n",
       "      <th>REC</th>\n",
       "      <th>YDS</th>\n",
       "      <th>Y/R</th>\n",
       "      <th>YBC</th>\n",
       "      <th>YBC/R</th>\n",
       "      <th>AIR</th>\n",
       "      <th>AIR/R</th>\n",
       "      <th>...</th>\n",
       "      <th>% TM</th>\n",
       "      <th>CATCHABLE</th>\n",
       "      <th>DROP</th>\n",
       "      <th>RZ TGT</th>\n",
       "      <th>10+ YDS</th>\n",
       "      <th>20+ YDS</th>\n",
       "      <th>30+ YDS</th>\n",
       "      <th>40+ YDS</th>\n",
       "      <th>50+ YDS</th>\n",
       "      <th>LNG</th>\n",
       "    </tr>\n",
       "  </thead>\n",
       "  <tbody>\n",
       "    <tr>\n",
       "      <th>0</th>\n",
       "      <td>1.0</td>\n",
       "      <td>Davante Adams (GB)</td>\n",
       "      <td>14.0</td>\n",
       "      <td>115.0</td>\n",
       "      <td>1,374</td>\n",
       "      <td>11.9</td>\n",
       "      <td>777</td>\n",
       "      <td>6.8</td>\n",
       "      <td>777</td>\n",
       "      <td>6.8</td>\n",
       "      <td>...</td>\n",
       "      <td>29.7%</td>\n",
       "      <td>116.0</td>\n",
       "      <td>1.0</td>\n",
       "      <td>28.0</td>\n",
       "      <td>49.0</td>\n",
       "      <td>18.0</td>\n",
       "      <td>10.0</td>\n",
       "      <td>5.0</td>\n",
       "      <td>1.0</td>\n",
       "      <td>56.0</td>\n",
       "    </tr>\n",
       "    <tr>\n",
       "      <th>1</th>\n",
       "      <td>2.0</td>\n",
       "      <td>Tyreek Hill (KC)</td>\n",
       "      <td>15.0</td>\n",
       "      <td>87.0</td>\n",
       "      <td>1,276</td>\n",
       "      <td>14.7</td>\n",
       "      <td>842</td>\n",
       "      <td>9.7</td>\n",
       "      <td>842</td>\n",
       "      <td>9.7</td>\n",
       "      <td>...</td>\n",
       "      <td>22.1%</td>\n",
       "      <td>94.0</td>\n",
       "      <td>5.0</td>\n",
       "      <td>17.0</td>\n",
       "      <td>49.0</td>\n",
       "      <td>20.0</td>\n",
       "      <td>11.0</td>\n",
       "      <td>5.0</td>\n",
       "      <td>2.0</td>\n",
       "      <td>75.0</td>\n",
       "    </tr>\n",
       "    <tr>\n",
       "      <th>2</th>\n",
       "      <td>3.0</td>\n",
       "      <td>Stefon Diggs (BUF)</td>\n",
       "      <td>16.0</td>\n",
       "      <td>127.0</td>\n",
       "      <td>1,535</td>\n",
       "      <td>12.1</td>\n",
       "      <td>1,071</td>\n",
       "      <td>8.4</td>\n",
       "      <td>1,071</td>\n",
       "      <td>8.4</td>\n",
       "      <td>...</td>\n",
       "      <td>29.0%</td>\n",
       "      <td>137.0</td>\n",
       "      <td>8.0</td>\n",
       "      <td>16.0</td>\n",
       "      <td>62.0</td>\n",
       "      <td>20.0</td>\n",
       "      <td>5.0</td>\n",
       "      <td>5.0</td>\n",
       "      <td>2.0</td>\n",
       "      <td>55.0</td>\n",
       "    </tr>\n",
       "    <tr>\n",
       "      <th>3</th>\n",
       "      <td>4.0</td>\n",
       "      <td>Calvin Ridley (ATL)</td>\n",
       "      <td>15.0</td>\n",
       "      <td>90.0</td>\n",
       "      <td>1,374</td>\n",
       "      <td>15.3</td>\n",
       "      <td>1,099</td>\n",
       "      <td>12.2</td>\n",
       "      <td>1,099</td>\n",
       "      <td>12.2</td>\n",
       "      <td>...</td>\n",
       "      <td>23.6%</td>\n",
       "      <td>96.0</td>\n",
       "      <td>6.0</td>\n",
       "      <td>20.0</td>\n",
       "      <td>58.0</td>\n",
       "      <td>23.0</td>\n",
       "      <td>8.0</td>\n",
       "      <td>3.0</td>\n",
       "      <td>2.0</td>\n",
       "      <td>63.0</td>\n",
       "    </tr>\n",
       "    <tr>\n",
       "      <th>4</th>\n",
       "      <td>5.0</td>\n",
       "      <td>D.K. Metcalf (SEA)</td>\n",
       "      <td>16.0</td>\n",
       "      <td>83.0</td>\n",
       "      <td>1,303</td>\n",
       "      <td>15.7</td>\n",
       "      <td>940</td>\n",
       "      <td>11.3</td>\n",
       "      <td>940</td>\n",
       "      <td>11.3</td>\n",
       "      <td>...</td>\n",
       "      <td>24.0%</td>\n",
       "      <td>92.0</td>\n",
       "      <td>8.0</td>\n",
       "      <td>16.0</td>\n",
       "      <td>50.0</td>\n",
       "      <td>17.0</td>\n",
       "      <td>12.0</td>\n",
       "      <td>5.0</td>\n",
       "      <td>3.0</td>\n",
       "      <td>62.0</td>\n",
       "    </tr>\n",
       "  </tbody>\n",
       "</table>\n",
       "<p>5 rows × 26 columns</p>\n",
       "</div>"
      ],
      "text/plain": [
       "   Rank               Player     G    REC    YDS   Y/R    YBC  YBC/R    AIR  \\\n",
       "0   1.0   Davante Adams (GB)  14.0  115.0  1,374  11.9    777    6.8    777   \n",
       "1   2.0     Tyreek Hill (KC)  15.0   87.0  1,276  14.7    842    9.7    842   \n",
       "2   3.0   Stefon Diggs (BUF)  16.0  127.0  1,535  12.1  1,071    8.4  1,071   \n",
       "3   4.0  Calvin Ridley (ATL)  15.0   90.0  1,374  15.3  1,099   12.2  1,099   \n",
       "4   5.0   D.K. Metcalf (SEA)  16.0   83.0  1,303  15.7    940   11.3    940   \n",
       "\n",
       "   AIR/R  ...   % TM  CATCHABLE  DROP  RZ TGT  10+ YDS  20+ YDS 30+ YDS  \\\n",
       "0    6.8  ...  29.7%      116.0   1.0    28.0     49.0     18.0    10.0   \n",
       "1    9.7  ...  22.1%       94.0   5.0    17.0     49.0     20.0    11.0   \n",
       "2    8.4  ...  29.0%      137.0   8.0    16.0     62.0     20.0     5.0   \n",
       "3   12.2  ...  23.6%       96.0   6.0    20.0     58.0     23.0     8.0   \n",
       "4   11.3  ...  24.0%       92.0   8.0    16.0     50.0     17.0    12.0   \n",
       "\n",
       "   40+ YDS  50+ YDS   LNG  \n",
       "0      5.0      1.0  56.0  \n",
       "1      5.0      2.0  75.0  \n",
       "2      5.0      2.0  55.0  \n",
       "3      3.0      2.0  63.0  \n",
       "4      5.0      3.0  62.0  \n",
       "\n",
       "[5 rows x 26 columns]"
      ]
     },
     "execution_count": 85,
     "metadata": {},
     "output_type": "execute_result"
    }
   ],
   "source": [
    "ff.head()"
   ]
  },
  {
   "cell_type": "markdown",
   "id": "f141c1f1",
   "metadata": {},
   "source": [
    "because we are looking at advanced statistics we must get rid of some of the more basic statistics. Specifically receptions, games, targets, and yards."
   ]
  },
  {
   "cell_type": "code",
   "execution_count": 86,
   "id": "b1dbe65e",
   "metadata": {},
   "outputs": [
    {
     "data": {
      "text/plain": [
       "Index(['Rank', 'Player', 'G', 'REC', 'YDS', 'Y/R', 'YBC', 'YBC/R', 'AIR',\n",
       "       'AIR/R', 'YAC', 'YAC/R', 'YACON', 'YACON/R', 'BRKTKL', 'TGT', '% TM',\n",
       "       'CATCHABLE', 'DROP', 'RZ TGT', '10+ YDS', '20+ YDS', '30+ YDS',\n",
       "       '40+ YDS', '50+ YDS', 'LNG'],\n",
       "      dtype='object')"
      ]
     },
     "metadata": {},
     "output_type": "display_data"
    }
   ],
   "source": [
    "display(ff.columns)"
   ]
  },
  {
   "cell_type": "code",
   "execution_count": 87,
   "id": "941ab6a1",
   "metadata": {},
   "outputs": [],
   "source": [
    "ff_adj = ff[['Rank', 'Player', 'Y/R', 'YBC', 'YBC/R', 'AIR','AIR/R', 'YAC', 'YAC/R', 'YACON', 'YACON/R', 'BRKTKL', '% TM',\n",
    "'CATCHABLE', 'DROP', 'RZ TGT', '10+ YDS', '20+ YDS', '30+ YDS','40+ YDS', '50+ YDS', 'LNG']]"
   ]
  },
  {
   "cell_type": "markdown",
   "id": "82673c4d",
   "metadata": {},
   "source": [
    "we must change the variable '% TM' from a percentage to a float, so it can be evaluated numerically."
   ]
  },
  {
   "cell_type": "code",
   "execution_count": 88,
   "id": "15c0845a",
   "metadata": {},
   "outputs": [
    {
     "name": "stderr",
     "output_type": "stream",
     "text": [
      "<ipython-input-88-7d7759d6bee3>:1: SettingWithCopyWarning: \n",
      "A value is trying to be set on a copy of a slice from a DataFrame.\n",
      "Try using .loc[row_indexer,col_indexer] = value instead\n",
      "\n",
      "See the caveats in the documentation: https://pandas.pydata.org/pandas-docs/stable/user_guide/indexing.html#returning-a-view-versus-a-copy\n",
      "  ff_adj['% TM'] = ff_adj['% TM'].str.rstrip('%').astype('float') / 100.0\n"
     ]
    }
   ],
   "source": [
    "ff_adj['% TM'] = ff_adj['% TM'].str.rstrip('%').astype('float') / 100.0"
   ]
  },
  {
   "cell_type": "code",
   "execution_count": 89,
   "id": "df4ad382",
   "metadata": {
    "scrolled": false
   },
   "outputs": [
    {
     "data": {
      "text/plain": [
       "10+ YDS     -0.920567\n",
       "% TM        -0.917860\n",
       "CATCHABLE   -0.915263\n",
       "20+ YDS     -0.879548\n",
       "YAC         -0.861921\n",
       "RZ TGT      -0.853427\n",
       "Name: Rank, dtype: float64"
      ]
     },
     "execution_count": 89,
     "metadata": {},
     "output_type": "execute_result"
    }
   ],
   "source": [
    "corr = ff_adj.corr()\n",
    "corr['Rank'].nsmallest(6)"
   ]
  },
  {
   "cell_type": "markdown",
   "id": "7336dffb",
   "metadata": {},
   "source": [
    "Because the better the rank the smaller the number, we must look at the smallest rather than largest correlation."
   ]
  },
  {
   "cell_type": "code",
   "execution_count": 90,
   "id": "30bed255",
   "metadata": {},
   "outputs": [],
   "source": [
    "ff_final = ff_adj[['Rank', 'Player','10+ YDS', '% TM', 'CATCHABLE', '20+ YDS', 'YAC', 'RZ TGT']]"
   ]
  },
  {
   "cell_type": "code",
   "execution_count": 92,
   "id": "c5d867b4",
   "metadata": {},
   "outputs": [
    {
     "data": {
      "text/plain": [
       "Rank         0\n",
       "Player       0\n",
       "10+ YDS      0\n",
       "% TM         0\n",
       "CATCHABLE    0\n",
       "20+ YDS      0\n",
       "YAC          0\n",
       "RZ TGT       0\n",
       "dtype: int64"
      ]
     },
     "execution_count": 92,
     "metadata": {},
     "output_type": "execute_result"
    }
   ],
   "source": [
    "df = ff_final.dropna()\n",
    "df.isna().sum()"
   ]
  },
  {
   "cell_type": "markdown",
   "id": "ffcbe284",
   "metadata": {},
   "source": [
    "I need to create a variable where I can test my accuracy so I use the "
   ]
  },
  {
   "cell_type": "code",
   "execution_count": 105,
   "id": "80b0b50e",
   "metadata": {
    "scrolled": true
   },
   "outputs": [
    {
     "name": "stderr",
     "output_type": "stream",
     "text": [
      "<ipython-input-105-ae30d16d137f>:1: SettingWithCopyWarning: \n",
      "A value is trying to be set on a copy of a slice from a DataFrame.\n",
      "Try using .loc[row_indexer,col_indexer] = value instead\n",
      "\n",
      "See the caveats in the documentation: https://pandas.pydata.org/pandas-docs/stable/user_guide/indexing.html#returning-a-view-versus-a-copy\n",
      "  df['Top 50'] = np.where(df['Rank'] < 51, 1, 0)\n"
     ]
    }
   ],
   "source": [
    "df['Top 50'] = np.where(df['Rank'] < 51, 1, 0)"
   ]
  },
  {
   "cell_type": "code",
   "execution_count": 106,
   "id": "0aa4ec5e",
   "metadata": {},
   "outputs": [
    {
     "data": {
      "text/html": [
       "<div>\n",
       "<style scoped>\n",
       "    .dataframe tbody tr th:only-of-type {\n",
       "        vertical-align: middle;\n",
       "    }\n",
       "\n",
       "    .dataframe tbody tr th {\n",
       "        vertical-align: top;\n",
       "    }\n",
       "\n",
       "    .dataframe thead th {\n",
       "        text-align: right;\n",
       "    }\n",
       "</style>\n",
       "<table border=\"1\" class=\"dataframe\">\n",
       "  <thead>\n",
       "    <tr style=\"text-align: right;\">\n",
       "      <th></th>\n",
       "      <th>Rank</th>\n",
       "      <th>Player</th>\n",
       "      <th>10+ YDS</th>\n",
       "      <th>% TM</th>\n",
       "      <th>CATCHABLE</th>\n",
       "      <th>20+ YDS</th>\n",
       "      <th>YAC</th>\n",
       "      <th>RZ TGT</th>\n",
       "      <th>Top 50</th>\n",
       "    </tr>\n",
       "  </thead>\n",
       "  <tbody>\n",
       "    <tr>\n",
       "      <th>0</th>\n",
       "      <td>1.0</td>\n",
       "      <td>Davante Adams (GB)</td>\n",
       "      <td>49.0</td>\n",
       "      <td>0.297</td>\n",
       "      <td>116.0</td>\n",
       "      <td>18.0</td>\n",
       "      <td>597.0</td>\n",
       "      <td>28.0</td>\n",
       "      <td>1</td>\n",
       "    </tr>\n",
       "    <tr>\n",
       "      <th>1</th>\n",
       "      <td>2.0</td>\n",
       "      <td>Tyreek Hill (KC)</td>\n",
       "      <td>49.0</td>\n",
       "      <td>0.221</td>\n",
       "      <td>94.0</td>\n",
       "      <td>20.0</td>\n",
       "      <td>434.0</td>\n",
       "      <td>17.0</td>\n",
       "      <td>1</td>\n",
       "    </tr>\n",
       "  </tbody>\n",
       "</table>\n",
       "</div>"
      ],
      "text/plain": [
       "   Rank              Player  10+ YDS   % TM  CATCHABLE  20+ YDS    YAC  \\\n",
       "0   1.0  Davante Adams (GB)     49.0  0.297      116.0     18.0  597.0   \n",
       "1   2.0    Tyreek Hill (KC)     49.0  0.221       94.0     20.0  434.0   \n",
       "\n",
       "   RZ TGT  Top 50  \n",
       "0    28.0       1  \n",
       "1    17.0       1  "
      ]
     },
     "execution_count": 106,
     "metadata": {},
     "output_type": "execute_result"
    }
   ],
   "source": [
    "df.head(2)"
   ]
  },
  {
   "cell_type": "code",
   "execution_count": 107,
   "id": "f21e27c1",
   "metadata": {
    "scrolled": true
   },
   "outputs": [
    {
     "data": {
      "text/html": [
       "<div>\n",
       "<style scoped>\n",
       "    .dataframe tbody tr th:only-of-type {\n",
       "        vertical-align: middle;\n",
       "    }\n",
       "\n",
       "    .dataframe tbody tr th {\n",
       "        vertical-align: top;\n",
       "    }\n",
       "\n",
       "    .dataframe thead th {\n",
       "        text-align: right;\n",
       "    }\n",
       "</style>\n",
       "<table border=\"1\" class=\"dataframe\">\n",
       "  <thead>\n",
       "    <tr style=\"text-align: right;\">\n",
       "      <th></th>\n",
       "      <th>Rank</th>\n",
       "      <th>Player</th>\n",
       "      <th>10+ YDS</th>\n",
       "      <th>% TM</th>\n",
       "      <th>CATCHABLE</th>\n",
       "      <th>20+ YDS</th>\n",
       "      <th>YAC</th>\n",
       "      <th>RZ TGT</th>\n",
       "      <th>Top 50</th>\n",
       "    </tr>\n",
       "  </thead>\n",
       "  <tbody>\n",
       "    <tr>\n",
       "      <th>197</th>\n",
       "      <td>198.0</td>\n",
       "      <td>Tavon Austin (JAC)</td>\n",
       "      <td>0.0</td>\n",
       "      <td>0.009</td>\n",
       "      <td>5.0</td>\n",
       "      <td>0.0</td>\n",
       "      <td>42.0</td>\n",
       "      <td>0.0</td>\n",
       "      <td>0</td>\n",
       "    </tr>\n",
       "    <tr>\n",
       "      <th>198</th>\n",
       "      <td>199.0</td>\n",
       "      <td>Andre Roberts (LAC)</td>\n",
       "      <td>2.0</td>\n",
       "      <td>0.011</td>\n",
       "      <td>5.0</td>\n",
       "      <td>0.0</td>\n",
       "      <td>5.0</td>\n",
       "      <td>1.0</td>\n",
       "      <td>0</td>\n",
       "    </tr>\n",
       "  </tbody>\n",
       "</table>\n",
       "</div>"
      ],
      "text/plain": [
       "      Rank               Player  10+ YDS   % TM  CATCHABLE  20+ YDS   YAC  \\\n",
       "197  198.0   Tavon Austin (JAC)      0.0  0.009        5.0      0.0  42.0   \n",
       "198  199.0  Andre Roberts (LAC)      2.0  0.011        5.0      0.0   5.0   \n",
       "\n",
       "     RZ TGT  Top 50  \n",
       "197     0.0       0  \n",
       "198     1.0       0  "
      ]
     },
     "execution_count": 107,
     "metadata": {},
     "output_type": "execute_result"
    }
   ],
   "source": [
    "df.tail(2)"
   ]
  },
  {
   "cell_type": "markdown",
   "id": "ad8b9b29",
   "metadata": {},
   "source": []
  },
  {
   "cell_type": "code",
   "execution_count": 104,
   "id": "d9151729",
   "metadata": {},
   "outputs": [],
   "source": [
    "x = df[['10+ YDS', '% TM', 'CATCHABLE', '20+ YDS', 'YAC', 'RZ TGT']]\n",
    "y = df[['Top 50']]"
   ]
  },
  {
   "cell_type": "code",
   "execution_count": 94,
   "id": "391dc6ef",
   "metadata": {},
   "outputs": [],
   "source": [
    "xtrain, xtest, ytrain, ytest = train_test_split(x, y, test_size = 0.25, random_state = 5)"
   ]
  }
 ],
 "metadata": {
  "kernelspec": {
   "display_name": "Python 3",
   "language": "python",
   "name": "python3"
  },
  "language_info": {
   "codemirror_mode": {
    "name": "ipython",
    "version": 3
   },
   "file_extension": ".py",
   "mimetype": "text/x-python",
   "name": "python",
   "nbconvert_exporter": "python",
   "pygments_lexer": "ipython3",
   "version": "3.8.8"
  }
 },
 "nbformat": 4,
 "nbformat_minor": 5
}
